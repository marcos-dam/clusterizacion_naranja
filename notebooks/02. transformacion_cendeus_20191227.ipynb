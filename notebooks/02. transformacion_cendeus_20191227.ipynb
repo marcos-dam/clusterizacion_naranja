{
 "cells": [
  {
   "cell_type": "markdown",
   "metadata": {},
   "source": [
    "# EDA de deudores.txt"
   ]
  },
  {
   "cell_type": "code",
   "execution_count": 1,
   "metadata": {},
   "outputs": [],
   "source": [
    "import pandas as pd\n",
    "import os\n",
    "import numpy as np"
   ]
  },
  {
   "cell_type": "markdown",
   "metadata": {},
   "source": [
    "## Data Formatting"
   ]
  },
  {
   "cell_type": "code",
   "execution_count": 2,
   "metadata": {},
   "outputs": [
    {
     "data": {
      "text/plain": [
       "\"\\ndata = {'Cod Entidad': 5, \\n        'Fecha': 6, \\n        'Tipo Id': 2, \\n        'N° Id': 11, \\n        'Actividad': 3, \\n        'Situacion': 2,\\n        'Prestamos/Garant': 12, \\n        'Participaciones': 12, \\n        'Garant. Otorgadas': 12,\\n        'Otros conceptos': 12, \\n        'Garant. Pref A': 12, \\n        'Garant. Pref. B': 12, \\n        'S/Garant. Pref.': 12,\\n        'Cont. Garant. Pref A': 12, \\n        'Cont. Garant. Pref B': 12, \\n        'S/Cont. Garant. Pref.': 12,\\n        'Previsiones': 12, \\n        'Deuda Cubierta': 1, \\n        'Proc. Jud./Rev.': 1, \\n        'Refinanc.': 1, \\n        'Recat. Oblig.': 1, \\n        'Sit. Juríd.': 1, \\n        'Irrec. Disp. Téc.': 1, \\n        'Atraso': 4}\\n\""
      ]
     },
     "execution_count": 2,
     "metadata": {},
     "output_type": "execute_result"
    }
   ],
   "source": [
    "\"\"\"\n",
    "data = {'Cod Entidad': 5, \n",
    "        'Fecha': 6, \n",
    "        'Tipo Id': 2, \n",
    "        'N° Id': 11, \n",
    "        'Actividad': 3, \n",
    "        'Situacion': 2,\n",
    "        'Prestamos/Garant': 12, \n",
    "        'Participaciones': 12, \n",
    "        'Garant. Otorgadas': 12,\n",
    "        'Otros conceptos': 12, \n",
    "        'Garant. Pref A': 12, \n",
    "        'Garant. Pref. B': 12, \n",
    "        'S/Garant. Pref.': 12,\n",
    "        'Cont. Garant. Pref A': 12, \n",
    "        'Cont. Garant. Pref B': 12, \n",
    "        'S/Cont. Garant. Pref.': 12,\n",
    "        'Previsiones': 12, \n",
    "        'Deuda Cubierta': 1, \n",
    "        'Proc. Jud./Rev.': 1, \n",
    "        'Refinanc.': 1, \n",
    "        'Recat. Oblig.': 1, \n",
    "        'Sit. Juríd.': 1, \n",
    "        'Irrec. Disp. Téc.': 1, \n",
    "        'Atraso': 4}\n",
    "\"\"\""
   ]
  },
  {
   "cell_type": "code",
   "execution_count": 3,
   "metadata": {},
   "outputs": [],
   "source": [
    "columns = ['Cod Entidad', 'Fecha', 'Tipo Id', 'Id', 'Actividad', 'Situacion',\n",
    "           'Prestamos/Garant', 'Participaciones', 'Garant. Otorgadas',\n",
    "           'Otros conceptos', 'Garant. Pref A', 'Garant. Pref. B', 'S/Garant. Pref.',\n",
    "           'Cont. Garant. Pref A', 'Cont. Garant. Pref B', 'S/Cont. Garant. Pref.',\n",
    "           'Previsiones', 'Deuda Cubierta', 'Proc. Jud./Rev.', 'Refinanc.', \n",
    "           'Recat. Oblig.', 'Sit. Juríd.', 'Irrec. Disp. Téc.', 'Atraso']\n",
    "\n",
    "data_sizes = [5, 6, 2, 11, 3, 2, 12, 12, 12, 12, 12, 12, 12, 12, 12, 12, 12,\n",
    "              1, 1, 1, 1, 1, 1, 4]"
   ]
  },
  {
   "cell_type": "code",
   "execution_count": 4,
   "metadata": {},
   "outputs": [],
   "source": [
    "selected_cols = ['Cod Entidad', 'Fecha', 'Id', 'Prestamos/Garant', 'Participaciones', 'Garant. Otorgadas', 'Otros conceptos',\n",
    "                 'Atraso', 'Previsiones', 'Refinanc.']"
   ]
  },
  {
   "cell_type": "code",
   "execution_count": 5,
   "metadata": {},
   "outputs": [],
   "source": [
    "def format_line(line):\n",
    "    aux = []\n",
    "    aux_val = 0\n",
    "    for i, v in enumerate(data_sizes):\n",
    "        if columns[i] in selected_cols:\n",
    "            aux.append(line[aux_val:aux_val + v])        \n",
    "        aux_val += v \n",
    "    return aux"
   ]
  },
  {
   "cell_type": "code",
   "execution_count": 6,
   "metadata": {},
   "outputs": [],
   "source": [
    "def create_txt_deudores_file(file_in, file_out):\n",
    "    with open(file_out, \"w\") as text_file:\n",
    "        print(f\"{'|'.join(selected_cols)}\", file = text_file)\n",
    "        with open(file_in) as fp:\n",
    "            for cnt, line in enumerate(fp):\n",
    "                a = [c.replace(',', '.') for c in format_line(line)]\n",
    "                print(f\"{'|'.join(a)}\", file = text_file)\n",
    "                if not cnt % 1000000:\n",
    "                    print(f'{cnt} líneas procesadas...')"
   ]
  },
  {
   "cell_type": "code",
   "execution_count": 5,
   "metadata": {},
   "outputs": [],
   "source": [
    "def clean_non_numeric(x):\n",
    "    try:\n",
    "        return(int(x))\n",
    "    except:\n",
    "        return(0)"
   ]
  },
  {
   "cell_type": "markdown",
   "metadata": {},
   "source": [
    "# Conversión de CENDEU"
   ]
  },
  {
   "cell_type": "code",
   "execution_count": 8,
   "metadata": {},
   "outputs": [],
   "source": [
    "import os.path\n",
    "#dirs = [d for d in os.listdir('//WS2713\\Deudores') if os.path.isdir(os.path.join('//WS2713\\Deudores', d))]\n",
    "path = '/home/mmontero/Escritorio/Proyectos/NARANJA/Squad Consumos/clusterizacion_inactivos/datasets/202007DEUDORES'\n",
    "dirs = os.listdir(path)"
   ]
  },
  {
   "cell_type": "code",
   "execution_count": 9,
   "metadata": {},
   "outputs": [
    {
     "data": {
      "text/plain": [
       "['Maeent.txt',\n",
       " 'Nomdeu.txt',\n",
       " 'Fecha_Proceso_20200911.txt',\n",
       " 'deudores.txt',\n",
       " 'LEAME DEUDORES.pdf']"
      ]
     },
     "execution_count": 9,
     "metadata": {},
     "output_type": "execute_result"
    }
   ],
   "source": [
    "dirs"
   ]
  },
  {
   "cell_type": "code",
   "execution_count": 10,
   "metadata": {},
   "outputs": [],
   "source": [
    "lista = [c for c in os.walk(path)]"
   ]
  },
  {
   "cell_type": "code",
   "execution_count": 11,
   "metadata": {},
   "outputs": [
    {
     "data": {
      "text/plain": [
       "'/home/mmontero/Escritorio/Proyectos/NARANJA/Squad Consumos/clusterizacion_inactivos/datasets/202007DEUDORES'"
      ]
     },
     "execution_count": 11,
     "metadata": {},
     "output_type": "execute_result"
    }
   ],
   "source": [
    "lista[0][0]"
   ]
  },
  {
   "cell_type": "code",
   "execution_count": 12,
   "metadata": {},
   "outputs": [
    {
     "name": "stdout",
     "output_type": "stream",
     "text": [
      "0 líneas procesadas...\n",
      "1000000 líneas procesadas...\n",
      "2000000 líneas procesadas...\n",
      "3000000 líneas procesadas...\n",
      "4000000 líneas procesadas...\n",
      "5000000 líneas procesadas...\n",
      "6000000 líneas procesadas...\n",
      "7000000 líneas procesadas...\n",
      "8000000 líneas procesadas...\n",
      "9000000 líneas procesadas...\n",
      "10000000 líneas procesadas...\n",
      "11000000 líneas procesadas...\n",
      "12000000 líneas procesadas...\n",
      "13000000 líneas procesadas...\n",
      "14000000 líneas procesadas...\n",
      "15000000 líneas procesadas...\n",
      "16000000 líneas procesadas...\n",
      "17000000 líneas procesadas...\n",
      "18000000 líneas procesadas...\n",
      "19000000 líneas procesadas...\n",
      "20000000 líneas procesadas...\n",
      "21000000 líneas procesadas...\n",
      "22000000 líneas procesadas...\n",
      "23000000 líneas procesadas...\n",
      "24000000 líneas procesadas...\n",
      "25000000 líneas procesadas...\n",
      "26000000 líneas procesadas...\n",
      "27000000 líneas procesadas...\n",
      "28000000 líneas procesadas...\n"
     ]
    }
   ],
   "source": [
    "file_in = f'{lista[0][0]}/deudores.txt'\n",
    "file_out = 'deudores202007.txt'\n",
    "create_txt_deudores_file(file_in, file_out)    "
   ]
  },
  {
   "cell_type": "code",
   "execution_count": 26,
   "metadata": {},
   "outputs": [
    {
     "name": "stderr",
     "output_type": "stream",
     "text": [
      "/home/mmontero/anaconda3/envs/clusterizacion/lib/python3.8/site-packages/IPython/core/interactiveshell.py:3145: DtypeWarning: Columns (2,9) have mixed types.Specify dtype option on import or set low_memory=False.\n",
      "  has_raised = await self.run_ast_nodes(code_ast.body, cell_name,\n"
     ]
    }
   ],
   "source": [
    "data = pd.read_csv(file_out, sep ='|', encoding = 'ISO-8859-1')"
   ]
  },
  {
   "cell_type": "code",
   "execution_count": 2,
   "metadata": {},
   "outputs": [
    {
     "name": "stderr",
     "output_type": "stream",
     "text": [
      "/home/mmontero/anaconda3/envs/clusterizacion/lib/python3.8/site-packages/IPython/core/interactiveshell.py:3145: DtypeWarning: Columns (2,9) have mixed types.Specify dtype option on import or set low_memory=False.\n",
      "  has_raised = await self.run_ast_nodes(code_ast.body, cell_name,\n"
     ]
    }
   ],
   "source": [
    "data = pd.read_csv('deudores202007.txt', sep ='|', encoding = 'ISO-8859-1')"
   ]
  },
  {
   "cell_type": "code",
   "execution_count": 10,
   "metadata": {},
   "outputs": [
    {
     "data": {
      "text/plain": [
       "(28747382, 10)"
      ]
     },
     "execution_count": 10,
     "metadata": {},
     "output_type": "execute_result"
    }
   ],
   "source": [
    "data.shape"
   ]
  },
  {
   "cell_type": "code",
   "execution_count": 9,
   "metadata": {},
   "outputs": [
    {
     "data": {
      "text/html": [
       "<div>\n",
       "<style scoped>\n",
       "    .dataframe tbody tr th:only-of-type {\n",
       "        vertical-align: middle;\n",
       "    }\n",
       "\n",
       "    .dataframe tbody tr th {\n",
       "        vertical-align: top;\n",
       "    }\n",
       "\n",
       "    .dataframe thead th {\n",
       "        text-align: right;\n",
       "    }\n",
       "</style>\n",
       "<table border=\"1\" class=\"dataframe\">\n",
       "  <thead>\n",
       "    <tr style=\"text-align: right;\">\n",
       "      <th></th>\n",
       "      <th>Cod Entidad</th>\n",
       "      <th>Fecha</th>\n",
       "      <th>Id</th>\n",
       "      <th>Prestamos/Garant</th>\n",
       "      <th>Participaciones</th>\n",
       "      <th>Garant. Otorgadas</th>\n",
       "      <th>Otros conceptos</th>\n",
       "      <th>Atraso</th>\n",
       "      <th>Previsiones</th>\n",
       "      <th>Refinanc.</th>\n",
       "    </tr>\n",
       "  </thead>\n",
       "  <tbody>\n",
       "    <tr>\n",
       "      <th>0</th>\n",
       "      <td>7</td>\n",
       "      <td>202007</td>\n",
       "      <td>20005864551</td>\n",
       "      <td>21.0</td>\n",
       "      <td>0.0</td>\n",
       "      <td>0.0</td>\n",
       "      <td>0.0</td>\n",
       "      <td>0</td>\n",
       "      <td>0</td>\n",
       "      <td>0</td>\n",
       "    </tr>\n",
       "    <tr>\n",
       "      <th>1</th>\n",
       "      <td>7</td>\n",
       "      <td>202007</td>\n",
       "      <td>20013897426</td>\n",
       "      <td>55.0</td>\n",
       "      <td>0.0</td>\n",
       "      <td>0.0</td>\n",
       "      <td>0.0</td>\n",
       "      <td>0</td>\n",
       "      <td>0</td>\n",
       "      <td>0</td>\n",
       "    </tr>\n",
       "    <tr>\n",
       "      <th>2</th>\n",
       "      <td>7</td>\n",
       "      <td>202007</td>\n",
       "      <td>20005671605</td>\n",
       "      <td>13.0</td>\n",
       "      <td>0.0</td>\n",
       "      <td>0.0</td>\n",
       "      <td>0.0</td>\n",
       "      <td>0</td>\n",
       "      <td>0</td>\n",
       "      <td>0</td>\n",
       "    </tr>\n",
       "    <tr>\n",
       "      <th>3</th>\n",
       "      <td>7</td>\n",
       "      <td>202007</td>\n",
       "      <td>20004216270</td>\n",
       "      <td>83.0</td>\n",
       "      <td>0.0</td>\n",
       "      <td>0.0</td>\n",
       "      <td>0.0</td>\n",
       "      <td>0</td>\n",
       "      <td>0</td>\n",
       "      <td>0</td>\n",
       "    </tr>\n",
       "    <tr>\n",
       "      <th>4</th>\n",
       "      <td>7</td>\n",
       "      <td>202007</td>\n",
       "      <td>20005717893</td>\n",
       "      <td>3.0</td>\n",
       "      <td>0.0</td>\n",
       "      <td>0.0</td>\n",
       "      <td>0.0</td>\n",
       "      <td>0</td>\n",
       "      <td>0</td>\n",
       "      <td>0</td>\n",
       "    </tr>\n",
       "  </tbody>\n",
       "</table>\n",
       "</div>"
      ],
      "text/plain": [
       "   Cod Entidad   Fecha           Id  Prestamos/Garant  Participaciones  \\\n",
       "0            7  202007  20005864551              21.0              0.0   \n",
       "1            7  202007  20013897426              55.0              0.0   \n",
       "2            7  202007  20005671605              13.0              0.0   \n",
       "3            7  202007  20004216270              83.0              0.0   \n",
       "4            7  202007  20005717893               3.0              0.0   \n",
       "\n",
       "   Garant. Otorgadas  Otros conceptos  Atraso  Previsiones  Refinanc.  \n",
       "0                0.0              0.0       0            0          0  \n",
       "1                0.0              0.0       0            0          0  \n",
       "2                0.0              0.0       0            0          0  \n",
       "3                0.0              0.0       0            0          0  \n",
       "4                0.0              0.0       0            0          0  "
      ]
     },
     "execution_count": 9,
     "metadata": {},
     "output_type": "execute_result"
    }
   ],
   "source": [
    "data.head()"
   ]
  },
  {
   "cell_type": "code",
   "execution_count": null,
   "metadata": {},
   "outputs": [],
   "source": []
  },
  {
   "cell_type": "code",
   "execution_count": 6,
   "metadata": {},
   "outputs": [],
   "source": [
    "data['Refinanc.'] = data['Refinanc.'].apply(lambda x: clean_non_numeric(x))\n",
    "data['Id'] = data['Id'].apply(lambda x: clean_non_numeric(x))\n",
    "#data = data[data['Id'] > 0]"
   ]
  },
  {
   "cell_type": "code",
   "execution_count": 7,
   "metadata": {},
   "outputs": [
    {
     "name": "stdout",
     "output_type": "stream",
     "text": [
      "<class 'pandas.core.frame.DataFrame'>\n",
      "RangeIndex: 28747382 entries, 0 to 28747381\n",
      "Data columns (total 10 columns):\n",
      " #   Column             Dtype  \n",
      "---  ------             -----  \n",
      " 0   Cod Entidad        int64  \n",
      " 1   Fecha              int64  \n",
      " 2   Id                 int64  \n",
      " 3   Prestamos/Garant   float64\n",
      " 4   Participaciones    float64\n",
      " 5   Garant. Otorgadas  float64\n",
      " 6   Otros conceptos    float64\n",
      " 7   Atraso             int64  \n",
      " 8   Previsiones        int64  \n",
      " 9   Refinanc.          int64  \n",
      "dtypes: float64(4), int64(6)\n",
      "memory usage: 2.1 GB\n"
     ]
    }
   ],
   "source": [
    "data.info()"
   ]
  },
  {
   "cell_type": "code",
   "execution_count": 8,
   "metadata": {},
   "outputs": [],
   "source": [
    "data.to_parquet(f\"deudores202007.parquet\", compression='gzip')"
   ]
  },
  {
   "cell_type": "code",
   "execution_count": null,
   "metadata": {},
   "outputs": [],
   "source": []
  },
  {
   "cell_type": "code",
   "execution_count": null,
   "metadata": {},
   "outputs": [],
   "source": []
  },
  {
   "cell_type": "code",
   "execution_count": null,
   "metadata": {},
   "outputs": [],
   "source": [
    "files = [c for c in os.listdir('.') if 'parquet.gzip' in c]"
   ]
  },
  {
   "cell_type": "code",
   "execution_count": null,
   "metadata": {},
   "outputs": [],
   "source": [
    "files"
   ]
  },
  {
   "cell_type": "code",
   "execution_count": null,
   "metadata": {},
   "outputs": [],
   "source": [
    "with open ('cendeus_2019.txt', 'w') as text_file:\n",
    "    for file in files:\n",
    "        data = pd.read_parquet(file)\n",
    "        text_file.write('\\n') \n",
    "        text_file.write(f\"{file.split('.')[0]}:\")\n",
    "        text_file.write('\\n')\n",
    "        text_file.write(f\"{(data['Fecha'].value_counts(normalize=True)*100).sort_values()}\")"
   ]
  },
  {
   "cell_type": "code",
   "execution_count": null,
   "metadata": {},
   "outputs": [],
   "source": [
    "for date in sorted(data['Fecha'].unique()):\n",
    "    print(f\"{date}: {data[data['Fecha']==date].shape[0]}: {round(data[data['Fecha']==date].shape[0]/data.shape[0]*100,2)} %\")"
   ]
  }
 ],
 "metadata": {
  "kernelspec": {
   "display_name": "Python 3",
   "language": "python",
   "name": "python3"
  },
  "language_info": {
   "codemirror_mode": {
    "name": "ipython",
    "version": 3
   },
   "file_extension": ".py",
   "mimetype": "text/x-python",
   "name": "python",
   "nbconvert_exporter": "python",
   "pygments_lexer": "ipython3",
   "version": "3.8.5"
  }
 },
 "nbformat": 4,
 "nbformat_minor": 4
}
